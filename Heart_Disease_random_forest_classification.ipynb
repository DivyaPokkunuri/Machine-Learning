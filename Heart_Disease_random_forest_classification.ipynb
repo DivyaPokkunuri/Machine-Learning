{
  "nbformat": 4,
  "nbformat_minor": 0,
  "metadata": {
    "colab": {
      "name": "Heart_Disease_random_forest_classification.ipynb",
      "provenance": [],
      "collapsed_sections": [],
      "machine_shape": "hm",
      "include_colab_link": true
    },
    "kernelspec": {
      "name": "python3",
      "display_name": "Python 3"
    }
  },
  "cells": [
    {
      "cell_type": "markdown",
      "metadata": {
        "id": "view-in-github",
        "colab_type": "text"
      },
      "source": [
        "<a href=\"https://colab.research.google.com/github/DivyaPokkunuri/Machine-Learning/blob/main/Heart_Disease_random_forest_classification.ipynb\" target=\"_parent\"><img src=\"https://colab.research.google.com/assets/colab-badge.svg\" alt=\"Open In Colab\"/></a>"
      ]
    },
    {
      "cell_type": "markdown",
      "metadata": {
        "id": "az1AiEA2VQue"
      },
      "source": [
        "# Project Report "
      ]
    },
    {
      "cell_type": "markdown",
      "metadata": {
        "id": "BFr4XaX5W-xo"
      },
      "source": [
        "### NAME: DIVYA POKKUNURI\n",
        "\n"
      ]
    },
    {
      "cell_type": "markdown",
      "metadata": {
        "id": "MWRn5LRgVbng"
      },
      "source": [
        "## TOPIC : HEART DISEASE PREDICTION USING RANDOM FORESTS"
      ]
    },
    {
      "cell_type": "markdown",
      "metadata": {
        "id": "YJhpRYxhVqcy"
      },
      "source": [
        "**PROBLEM STATEMENT:** \n",
        "\n",
        "I Focused on finding the top influencers in heart predictions using correlation matrix and Python visulaisations. Further ML was applied using Random forests, on the proposed system. The highest accuracy obtained was 85.5% with 0.3 threshold. "
      ]
    },
    {
      "cell_type": "markdown",
      "metadata": {
        "id": "t5auHA38YFRM"
      },
      "source": [
        "**Abstract:**\n",
        "\n",
        "\n",
        "Data mining plays a very important role in Health- care industry. Be it in predicting diseases based on symptoms or predicting the stage / level of severity of any disease, data mining has proved to be very helpful. Healthcare industries collect huge amounts of data and thus, the use of machine learning saves time and guarantees performance. In this project I have analyzed the various data mining techniques which can be used in the healthcare industry for heart disease prediction and proposed a system that uses 8 medical attributes such as sex, thallium test results, chest pain type, exang, age, etc. for the same. The accuracy and key influencers for the proposed system have been discussed too. The most preferred supervised learning techniques is random forest and the analysis for the same has been done. "
      ]
    },
    {
      "cell_type": "markdown",
      "metadata": {
        "id": "qOmHL-68Y_pO"
      },
      "source": [
        "**Heart Disease**\n",
        "\n",
        "Heart disease is one of the leading causes of anguish and loss of life and due to this very reason predicting cardiovascular diseases is crucial in the section of clinical data analysis for healthcare sector. In our study we implemented Decision Tree, Naive Bayes, and Random Forest. Factors causing heart disease are:\n",
        "•\tSmoking\n",
        "•\tHigh Cholesterol in blood\n",
        "•\tBlood Vessel inflammation\n",
        "•\tHigh Blood pressure\n",
        "•\tHigh amount of some type of fats in body \n",
        "\n",
        "Attribute Description of Database used:\n",
        "\n",
        "\n",
        "AGE: age of the person in years\n",
        "SEX: This is a binary attribute suggesting the gender of the person. State 1 indicates the person is male, and 0 indicates person is female.\n",
        "CP (chest pain): nothing but discomfort provoked by various reasons. It takes 4 values: asymptomatic, typical angina, non-angina, and atypical angina, respectively.\n",
        "THALACH: This is the maximum heart rate recorded in thallium stress test. This attribute is very intuitive as it tells how heart rate of a person suffering from heart disease changes with respect to a person who is heart disease free.\n",
        "EXANG: specifies Exercise induced angina. This is the discomfort encountered after exercise or emotional stress. Angina is generally caused when heart does not get adequate blood through the arteries to pump. This can be common after exercise and can be relieved with rest. This is a binary attribute as well where state 1 indicates the person encounters angina during or after exercise; 0 indicates absence of any such discomfort during exercises.\n",
        "THAL: This is the result of Thallium stress test. Thallium stress test’s objective is to know how well blood flows into our heart. Based on its value, it can be classified as normal (value=3), fixed defect (value=6), reversible defect (value=7), etc.\n",
        "OLDSPEAK: This attribute has a numeric value based on the ST depression found on an electrocardiogram which is generated by exercise corresponding to rest.\n",
        "CA: This attribute is the number of major vessels that are colored by fluoroscopy. The values 0 to 3 indicate the vessels.\n",
        "\n",
        "Attributes removed from the Cleveland Database:\n",
        "TRESTBPS: resting blood pressure. It is the force with which the blood is hitting our artery walls. If resting blood pressure is high, several heart related issues can arise.\n",
        "CHOL: serum cholesterol in mg/dl\n",
        "FBS: Fasting blood sugar. It is a binary attribute as well. State 1 indicates the fasting blood sugar value is less than 120 mg/dl or greater than 120 mg/dl. If your fasting blood sugar   is less than 100 mg/dl and greater than 70 mg/dl, then it can be said normal.\n",
        "RESTECG: resting electrocardiographic results (normal, ST-T wave abnormality, or left ventricular hypertrophy)\n",
        "SLOPE: The ST/heart rate slope is the relative shift in ST segments to exercise induced increments in the heart rate. Slope consists of three values where 1 indicates upsloping, 2 indicates flat, and 3 indicates down sloping.\n",
        "\n"
      ]
    },
    {
      "cell_type": "markdown",
      "metadata": {
        "id": "drqG_NEAZWlS"
      },
      "source": [
        "**Random Forest**\n",
        "\n",
        "The Healthcare industry focuses on performance as well as precision and in such cases, decision trees and random forest prove to be of great help. You go for decision trees when   you want to focus more on data interpretation or performance while random forests come with precision too. Random forests follow Ensemble learning. You take multiple machines learning algorithms and put them together to create one bigger machine learning algorithm. Now this machine learning algorithm, the final one, is leveraging many different other machine learning algorithms making it highly efficient. The Random Forest algorithm is one of the most popular and powerful supervised machines learning algorithm which can perform both classification and regression tasks. This algorithm makes the forest with a various decision trees. The more trees in a forest the more vigorous the forecast, and in this manner higher the precision. In random forest we develop various trees instead of a single tree. To classify a new object based on the attribute, each individual tree gives a class prediction. The forest chooses the classification that has the most votes of all the trees in the forest, and that becomes the model’s prediction. In the case of regression, it takes the average of the output of the different trees."
      ]
    },
    {
      "cell_type": "markdown",
      "metadata": {
        "id": "0MRC0e0KhQ0S"
      },
      "source": [
        "# Random Forest Classification"
      ]
    },
    {
      "cell_type": "markdown",
      "metadata": {
        "id": "LWd1UlMnhT2s"
      },
      "source": [
        "## Importing the libraries"
      ]
    },
    {
      "cell_type": "code",
      "metadata": {
        "id": "YvGPUQaHhXfL"
      },
      "source": [
        "import numpy as np\n",
        "import matplotlib.pyplot as plt                                                                    \n",
        "import pandas as pd                                                   \n",
        "import seaborn as sns"
      ],
      "execution_count": null,
      "outputs": []
    },
    {
      "cell_type": "markdown",
      "metadata": {
        "id": "K1VMqkGvhc3-"
      },
      "source": [
        "## Importing the dataset"
      ]
    },
    {
      "cell_type": "code",
      "metadata": {
        "id": "M52QDmyzhh9s"
      },
      "source": [
        "dataset = pd.read_csv('heart.csv')"
      ],
      "execution_count": null,
      "outputs": []
    },
    {
      "cell_type": "markdown",
      "metadata": {
        "id": "4lO1HwR9e8vP"
      },
      "source": [
        "### DESCRIPTION"
      ]
    },
    {
      "cell_type": "code",
      "metadata": {
        "colab": {
          "base_uri": "https://localhost:8080/",
          "height": 317
        },
        "id": "nUbdcFGAfDkJ",
        "outputId": "d16db5a1-2888-409d-a0c7-18665f1c6a62"
      },
      "source": [
        "dataset.describe()"
      ],
      "execution_count": null,
      "outputs": [
        {
          "output_type": "execute_result",
          "data": {
            "text/html": [
              "<div>\n",
              "<style scoped>\n",
              "    .dataframe tbody tr th:only-of-type {\n",
              "        vertical-align: middle;\n",
              "    }\n",
              "\n",
              "    .dataframe tbody tr th {\n",
              "        vertical-align: top;\n",
              "    }\n",
              "\n",
              "    .dataframe thead th {\n",
              "        text-align: right;\n",
              "    }\n",
              "</style>\n",
              "<table border=\"1\" class=\"dataframe\">\n",
              "  <thead>\n",
              "    <tr style=\"text-align: right;\">\n",
              "      <th></th>\n",
              "      <th>age</th>\n",
              "      <th>sex</th>\n",
              "      <th>cp</th>\n",
              "      <th>trestbps</th>\n",
              "      <th>chol</th>\n",
              "      <th>fbs</th>\n",
              "      <th>restecg</th>\n",
              "      <th>thalach</th>\n",
              "      <th>exang</th>\n",
              "      <th>oldpeak</th>\n",
              "      <th>slope</th>\n",
              "      <th>ca</th>\n",
              "      <th>thal</th>\n",
              "      <th>target</th>\n",
              "    </tr>\n",
              "  </thead>\n",
              "  <tbody>\n",
              "    <tr>\n",
              "      <th>count</th>\n",
              "      <td>303.000000</td>\n",
              "      <td>303.000000</td>\n",
              "      <td>303.000000</td>\n",
              "      <td>303.000000</td>\n",
              "      <td>303.000000</td>\n",
              "      <td>303.000000</td>\n",
              "      <td>303.000000</td>\n",
              "      <td>303.000000</td>\n",
              "      <td>303.000000</td>\n",
              "      <td>303.000000</td>\n",
              "      <td>303.000000</td>\n",
              "      <td>303.000000</td>\n",
              "      <td>303.000000</td>\n",
              "      <td>303.000000</td>\n",
              "    </tr>\n",
              "    <tr>\n",
              "      <th>mean</th>\n",
              "      <td>54.366337</td>\n",
              "      <td>0.683168</td>\n",
              "      <td>0.966997</td>\n",
              "      <td>131.623762</td>\n",
              "      <td>246.264026</td>\n",
              "      <td>0.148515</td>\n",
              "      <td>0.528053</td>\n",
              "      <td>149.646865</td>\n",
              "      <td>0.326733</td>\n",
              "      <td>1.039604</td>\n",
              "      <td>1.399340</td>\n",
              "      <td>0.729373</td>\n",
              "      <td>2.313531</td>\n",
              "      <td>0.544554</td>\n",
              "    </tr>\n",
              "    <tr>\n",
              "      <th>std</th>\n",
              "      <td>9.082101</td>\n",
              "      <td>0.466011</td>\n",
              "      <td>1.032052</td>\n",
              "      <td>17.538143</td>\n",
              "      <td>51.830751</td>\n",
              "      <td>0.356198</td>\n",
              "      <td>0.525860</td>\n",
              "      <td>22.905161</td>\n",
              "      <td>0.469794</td>\n",
              "      <td>1.161075</td>\n",
              "      <td>0.616226</td>\n",
              "      <td>1.022606</td>\n",
              "      <td>0.612277</td>\n",
              "      <td>0.498835</td>\n",
              "    </tr>\n",
              "    <tr>\n",
              "      <th>min</th>\n",
              "      <td>29.000000</td>\n",
              "      <td>0.000000</td>\n",
              "      <td>0.000000</td>\n",
              "      <td>94.000000</td>\n",
              "      <td>126.000000</td>\n",
              "      <td>0.000000</td>\n",
              "      <td>0.000000</td>\n",
              "      <td>71.000000</td>\n",
              "      <td>0.000000</td>\n",
              "      <td>0.000000</td>\n",
              "      <td>0.000000</td>\n",
              "      <td>0.000000</td>\n",
              "      <td>0.000000</td>\n",
              "      <td>0.000000</td>\n",
              "    </tr>\n",
              "    <tr>\n",
              "      <th>25%</th>\n",
              "      <td>47.500000</td>\n",
              "      <td>0.000000</td>\n",
              "      <td>0.000000</td>\n",
              "      <td>120.000000</td>\n",
              "      <td>211.000000</td>\n",
              "      <td>0.000000</td>\n",
              "      <td>0.000000</td>\n",
              "      <td>133.500000</td>\n",
              "      <td>0.000000</td>\n",
              "      <td>0.000000</td>\n",
              "      <td>1.000000</td>\n",
              "      <td>0.000000</td>\n",
              "      <td>2.000000</td>\n",
              "      <td>0.000000</td>\n",
              "    </tr>\n",
              "    <tr>\n",
              "      <th>50%</th>\n",
              "      <td>55.000000</td>\n",
              "      <td>1.000000</td>\n",
              "      <td>1.000000</td>\n",
              "      <td>130.000000</td>\n",
              "      <td>240.000000</td>\n",
              "      <td>0.000000</td>\n",
              "      <td>1.000000</td>\n",
              "      <td>153.000000</td>\n",
              "      <td>0.000000</td>\n",
              "      <td>0.800000</td>\n",
              "      <td>1.000000</td>\n",
              "      <td>0.000000</td>\n",
              "      <td>2.000000</td>\n",
              "      <td>1.000000</td>\n",
              "    </tr>\n",
              "    <tr>\n",
              "      <th>75%</th>\n",
              "      <td>61.000000</td>\n",
              "      <td>1.000000</td>\n",
              "      <td>2.000000</td>\n",
              "      <td>140.000000</td>\n",
              "      <td>274.500000</td>\n",
              "      <td>0.000000</td>\n",
              "      <td>1.000000</td>\n",
              "      <td>166.000000</td>\n",
              "      <td>1.000000</td>\n",
              "      <td>1.600000</td>\n",
              "      <td>2.000000</td>\n",
              "      <td>1.000000</td>\n",
              "      <td>3.000000</td>\n",
              "      <td>1.000000</td>\n",
              "    </tr>\n",
              "    <tr>\n",
              "      <th>max</th>\n",
              "      <td>77.000000</td>\n",
              "      <td>1.000000</td>\n",
              "      <td>3.000000</td>\n",
              "      <td>200.000000</td>\n",
              "      <td>564.000000</td>\n",
              "      <td>1.000000</td>\n",
              "      <td>2.000000</td>\n",
              "      <td>202.000000</td>\n",
              "      <td>1.000000</td>\n",
              "      <td>6.200000</td>\n",
              "      <td>2.000000</td>\n",
              "      <td>4.000000</td>\n",
              "      <td>3.000000</td>\n",
              "      <td>1.000000</td>\n",
              "    </tr>\n",
              "  </tbody>\n",
              "</table>\n",
              "</div>"
            ],
            "text/plain": [
              "              age         sex          cp  ...          ca        thal      target\n",
              "count  303.000000  303.000000  303.000000  ...  303.000000  303.000000  303.000000\n",
              "mean    54.366337    0.683168    0.966997  ...    0.729373    2.313531    0.544554\n",
              "std      9.082101    0.466011    1.032052  ...    1.022606    0.612277    0.498835\n",
              "min     29.000000    0.000000    0.000000  ...    0.000000    0.000000    0.000000\n",
              "25%     47.500000    0.000000    0.000000  ...    0.000000    2.000000    0.000000\n",
              "50%     55.000000    1.000000    1.000000  ...    0.000000    2.000000    1.000000\n",
              "75%     61.000000    1.000000    2.000000  ...    1.000000    3.000000    1.000000\n",
              "max     77.000000    1.000000    3.000000  ...    4.000000    3.000000    1.000000\n",
              "\n",
              "[8 rows x 14 columns]"
            ]
          },
          "metadata": {
            "tags": []
          },
          "execution_count": 4
        }
      ]
    },
    {
      "cell_type": "code",
      "metadata": {
        "colab": {
          "base_uri": "https://localhost:8080/"
        },
        "id": "R2KibOQYfRnp",
        "outputId": "c6f96126-32b2-42ad-891d-741256a2ab37"
      },
      "source": [
        "dataset.info()"
      ],
      "execution_count": null,
      "outputs": [
        {
          "output_type": "stream",
          "text": [
            "<class 'pandas.core.frame.DataFrame'>\n",
            "RangeIndex: 303 entries, 0 to 302\n",
            "Data columns (total 14 columns):\n",
            " #   Column    Non-Null Count  Dtype  \n",
            "---  ------    --------------  -----  \n",
            " 0   age       303 non-null    int64  \n",
            " 1   sex       303 non-null    int64  \n",
            " 2   cp        303 non-null    int64  \n",
            " 3   trestbps  303 non-null    int64  \n",
            " 4   chol      303 non-null    int64  \n",
            " 5   fbs       303 non-null    int64  \n",
            " 6   restecg   303 non-null    int64  \n",
            " 7   thalach   303 non-null    int64  \n",
            " 8   exang     303 non-null    int64  \n",
            " 9   oldpeak   303 non-null    float64\n",
            " 10  slope     303 non-null    int64  \n",
            " 11  ca        303 non-null    int64  \n",
            " 12  thal      303 non-null    int64  \n",
            " 13  target    303 non-null    int64  \n",
            "dtypes: float64(1), int64(13)\n",
            "memory usage: 33.3 KB\n"
          ],
          "name": "stdout"
        }
      ]
    },
    {
      "cell_type": "markdown",
      "metadata": {
        "id": "6OTIibmMfVTk"
      },
      "source": [
        "No missing values or outliers. Moving forward with analysis. "
      ]
    },
    {
      "cell_type": "markdown",
      "metadata": {
        "id": "oWz6Z-tHheYG"
      },
      "source": [
        "## **Analysis of Attributes of DATASET**"
      ]
    },
    {
      "cell_type": "code",
      "metadata": {
        "id": "KBf9zww4c-xs"
      },
      "source": [
        "data_copy=dataset.copy()"
      ],
      "execution_count": null,
      "outputs": []
    },
    {
      "cell_type": "code",
      "metadata": {
        "id": "9XHmjozBdADq"
      },
      "source": [
        "visuals={\"sex\":{1:\"Male\",0:\"Female\"},\n",
        "         \"cp\":{0:\"typical angina\",1: \"atypical angina\" ,2: \"non-anginal pain\" ,3: \"asymptomatic\"},\n",
        "         \"fbs\":{0:\"<=120\",1:\">120\"},\n",
        "         \"exang\":{0:\"no\",1:\"yes\"},\n",
        "         \"restecg\" :{0:\"normal\" ,1:\"ST-T wave abnormality\",2:\"probable or definite left ventricular hypertrophy\"},\n",
        "         \"target\" :{ 0:\"No Heart Disease\",1 : \"heart-disease\"},\n",
        "         \"slope\" :{2 : \"upsloping\",1 :\"flat\",0 : \"downsloping\"},\n",
        "         \"thal\" :{ 1 : \"fixed defect\",0 : \"normal\",2 : \"reversable defect\",3:\"NA\"}\n",
        "         \n",
        "}\n",
        "data_copy.replace(visuals,inplace=True)"
      ],
      "execution_count": null,
      "outputs": []
    },
    {
      "cell_type": "markdown",
      "metadata": {
        "id": "0rpIOyhNddDe"
      },
      "source": [
        "**Correlation in DATA**"
      ]
    },
    {
      "cell_type": "code",
      "metadata": {
        "colab": {
          "base_uri": "https://localhost:8080/",
          "height": 549
        },
        "id": "ySU9-wdRdcCZ",
        "outputId": "6d1b2f07-be89-4c19-f853-95cca41455a8"
      },
      "source": [
        "corr=dataset.corr(method='pearson')\n",
        "\n",
        "\n",
        "figure, ax= plt.subplots(figsize = ( 10 , 8 )) \n",
        "sns.heatmap(corr, cmap='coolwarm_r', linewidths=1, annot=True)\n",
        "\n",
        "ax.set_xlabel( \"Dataset Features\" , size = 12 )  \n",
        "ax.set_ylabel( \"Dataset Features\" , size = 12 ) \n",
        "ax.set_title( \"Correlation Matrix\" , size = 15)\n",
        "plt.show() "
      ],
      "execution_count": null,
      "outputs": [
        {
          "output_type": "display_data",
          "data": {
            "image/png": "[encoded data removed]",
            "text/plain": [
              "<Figure size 720x576 with 2 Axes>"
            ]
          },
          "metadata": {
            "tags": [],
            "needs_background": "light"
          }
        }
      ]
    },
    {
      "cell_type": "markdown",
      "metadata": {
        "id": "Kfv5WoCtf5tn"
      },
      "source": [
        " **Slope and Oldpeak are two independent features with high correlation. This causes redundancy and hence one of them can be removed for better accuracy.**"
      ]
    },
    {
      "cell_type": "markdown",
      "metadata": {
        "id": "ixdQGx-tdK4m"
      },
      "source": [
        "**Target V/S Chest pain type**"
      ]
    },
    {
      "cell_type": "code",
      "metadata": {
        "colab": {
          "base_uri": "https://localhost:8080/",
          "height": 142
        },
        "id": "yKl3RCWQdC7y",
        "outputId": "56d0c499-2cf1-4bf1-e790-ea77c970fc65"
      },
      "source": [
        "df_plot = data_copy.groupby(['cp', 'target']).size().reset_index().pivot(columns='cp', index='target', values=0) \n",
        "df_plot"
      ],
      "execution_count": null,
      "outputs": [
        {
          "output_type": "execute_result",
          "data": {
            "text/html": [
              "<div>\n",
              "<style scoped>\n",
              "    .dataframe tbody tr th:only-of-type {\n",
              "        vertical-align: middle;\n",
              "    }\n",
              "\n",
              "    .dataframe tbody tr th {\n",
              "        vertical-align: top;\n",
              "    }\n",
              "\n",
              "    .dataframe thead th {\n",
              "        text-align: right;\n",
              "    }\n",
              "</style>\n",
              "<table border=\"1\" class=\"dataframe\">\n",
              "  <thead>\n",
              "    <tr style=\"text-align: right;\">\n",
              "      <th>cp</th>\n",
              "      <th>asymptomatic</th>\n",
              "      <th>atypical angina</th>\n",
              "      <th>non-anginal pain</th>\n",
              "      <th>typical angina</th>\n",
              "    </tr>\n",
              "    <tr>\n",
              "      <th>target</th>\n",
              "      <th></th>\n",
              "      <th></th>\n",
              "      <th></th>\n",
              "      <th></th>\n",
              "    </tr>\n",
              "  </thead>\n",
              "  <tbody>\n",
              "    <tr>\n",
              "      <th>No Heart Disease</th>\n",
              "      <td>7</td>\n",
              "      <td>9</td>\n",
              "      <td>18</td>\n",
              "      <td>104</td>\n",
              "    </tr>\n",
              "    <tr>\n",
              "      <th>heart-disease</th>\n",
              "      <td>16</td>\n",
              "      <td>41</td>\n",
              "      <td>69</td>\n",
              "      <td>39</td>\n",
              "    </tr>\n",
              "  </tbody>\n",
              "</table>\n",
              "</div>"
            ],
            "text/plain": [
              "cp                asymptomatic  ...  typical angina\n",
              "target                          ...                \n",
              "No Heart Disease             7  ...             104\n",
              "heart-disease               16  ...              39\n",
              "\n",
              "[2 rows x 4 columns]"
            ]
          },
          "metadata": {
            "tags": []
          },
          "execution_count": 9
        }
      ]
    },
    {
      "cell_type": "code",
      "metadata": {
        "colab": {
          "base_uri": "https://localhost:8080/",
          "height": 373
        },
        "id": "LDheIsdIdVSj",
        "outputId": "8739b263-9203-48d0-96b6-2e4d2cef09aa"
      },
      "source": [
        "df_plot.plot(kind='bar', stacked=True)"
      ],
      "execution_count": null,
      "outputs": [
        {
          "output_type": "execute_result",
          "data": {
            "text/plain": [
              "<matplotlib.axes._subplots.AxesSubplot at 0x7ff9c64e3210>"
            ]
          },
          "metadata": {
            "tags": []
          },
          "execution_count": 10
        },
        {
          "output_type": "display_data",
          "data": {
            "image/png": "[encoded data removed]",
            "text/plain": [
              "<Figure size 432x288 with 1 Axes>"
            ]
          },
          "metadata": {
            "tags": [],
            "needs_background": "light"
          }
        }
      ]
    },
    {
      "cell_type": "markdown",
      "metadata": {
        "id": "JxV0zVtmd2af"
      },
      "source": [
        "**Thalium test result VS Target**"
      ]
    },
    {
      "cell_type": "code",
      "metadata": {
        "id": "badS4QdHeB6p"
      },
      "source": [
        "visuals={\n",
        "         \"target\" :{ 0:\"No Heart Disease\",1 : \"heart-disease\"}      \n",
        "}\n",
        "dataset.replace(visuals,inplace=True)"
      ],
      "execution_count": null,
      "outputs": []
    },
    {
      "cell_type": "code",
      "metadata": {
        "colab": {
          "base_uri": "https://localhost:8080/",
          "height": 400
        },
        "id": "RkKAyotpd8zR",
        "outputId": "44775960-4957-4098-b4a1-7037442679d7"
      },
      "source": [
        "sns.catplot(y=\"thal\", x=\"target\", kind=\"bar\", data=dataset)"
      ],
      "execution_count": null,
      "outputs": [
        {
          "output_type": "execute_result",
          "data": {
            "text/plain": [
              "<seaborn.axisgrid.FacetGrid at 0x7ff9c45e9a10>"
            ]
          },
          "metadata": {
            "tags": []
          },
          "execution_count": 12
        },
        {
          "output_type": "display_data",
          "data": {
            "image/png": "[encoded data removed]",
            "text/plain": [
              "<Figure size 360x360 with 1 Axes>"
            ]
          },
          "metadata": {
            "tags": [],
            "needs_background": "light"
          }
        }
      ]
    },
    {
      "cell_type": "markdown",
      "metadata": {
        "id": "Fzo_926peZBp"
      },
      "source": [
        "**Age VS Target**"
      ]
    },
    {
      "cell_type": "code",
      "metadata": {
        "colab": {
          "base_uri": "https://localhost:8080/",
          "height": 296
        },
        "id": "ucsGLI8TeZeT",
        "outputId": "cd0cbf8e-cf49-4513-bfac-45e74c426ef3"
      },
      "source": [
        "sns.lineplot(data= dataset ,x='age', y='target')"
      ],
      "execution_count": null,
      "outputs": [
        {
          "output_type": "execute_result",
          "data": {
            "text/plain": [
              "<matplotlib.axes._subplots.AxesSubplot at 0x7ff9c457d290>"
            ]
          },
          "metadata": {
            "tags": []
          },
          "execution_count": 13
        },
        {
          "output_type": "display_data",
          "data": {
            "image/png": "[encoded data removed]",
            "text/plain": [
              "<Figure size 432x288 with 1 Axes>"
            ]
          },
          "metadata": {
            "tags": [],
            "needs_background": "light"
          }
        }
      ]
    },
    {
      "cell_type": "code",
      "metadata": {
        "id": "ImIz7dEieoN1"
      },
      "source": [
        "visuals={\n",
        "         \"target\" :{\"No Heart Disease\" : 0, \"heart-disease\": 1}      \n",
        "}\n",
        "dataset.replace(visuals,inplace=True)"
      ],
      "execution_count": null,
      "outputs": []
    },
    {
      "cell_type": "markdown",
      "metadata": {
        "id": "FrY6wkK9eyiy"
      },
      "source": [
        "Pairplot of attributes which may not be important "
      ]
    },
    {
      "cell_type": "code",
      "metadata": {
        "colab": {
          "base_uri": "https://localhost:8080/",
          "height": 214
        },
        "id": "APkGF3QZjYti",
        "outputId": "e28d04c0-97df-4de4-a4c2-17a7b17bcc31"
      },
      "source": [
        "sns.pairplot(data= dataset,x_vars=['chol', 'fbs' , 'trestbps', 'restecg', 'slope'], y_vars=['target'] , kind='reg')"
      ],
      "execution_count": null,
      "outputs": [
        {
          "output_type": "execute_result",
          "data": {
            "text/plain": [
              "<seaborn.axisgrid.PairGrid at 0x7f1de2f812d0>"
            ]
          },
          "metadata": {
            "tags": []
          },
          "execution_count": 7
        },
        {
          "output_type": "display_data",
          "data": {
            "image/png": "[encoded data removed]",
            "text/plain": [
              "<Figure size 900x180 with 5 Axes>"
            ]
          },
          "metadata": {
            "tags": [],
            "needs_background": "light"
          }
        }
      ]
    },
    {
      "cell_type": "code",
      "metadata": {
        "colab": {
          "base_uri": "https://localhost:8080/",
          "height": 214
        },
        "id": "iF6W92zMmbEF",
        "outputId": "058566ad-6bff-47be-a0c5-88528e6dfe4c"
      },
      "source": [
        "sns.pairplot(data= dataset,x_vars=['chol', 'fbs' , 'trestbps', 'restecg', 'slope'], y_vars=['target'] , kind='scatter')"
      ],
      "execution_count": null,
      "outputs": [
        {
          "output_type": "execute_result",
          "data": {
            "text/plain": [
              "<seaborn.axisgrid.PairGrid at 0x7f1de32c7710>"
            ]
          },
          "metadata": {
            "tags": []
          },
          "execution_count": 8
        },
        {
          "output_type": "display_data",
          "data": {
            "image/png": "[encoded data removed]",
            "text/plain": [
              "<Figure size 900x180 with 5 Axes>"
            ]
          },
          "metadata": {
            "tags": [],
            "needs_background": "light"
          }
        }
      ]
    },
    {
      "cell_type": "markdown",
      "metadata": {
        "id": "YmSfZ3i5meY5"
      },
      "source": [
        "Removing the following attributes"
      ]
    },
    {
      "cell_type": "code",
      "metadata": {
        "colab": {
          "base_uri": "https://localhost:8080/",
          "height": 419
        },
        "id": "FhjdMLh9Fis-",
        "outputId": "7d2e13a7-d4a2-4f8f-fc86-7923b148af27"
      },
      "source": [
        "dataset.drop(columns={'chol', 'fbs' , 'trestbps', 'restecg', 'slope'}, axis=1, inplace=True)\n",
        "dataset"
      ],
      "execution_count": null,
      "outputs": [
        {
          "output_type": "execute_result",
          "data": {
            "text/html": [
              "<div>\n",
              "<style scoped>\n",
              "    .dataframe tbody tr th:only-of-type {\n",
              "        vertical-align: middle;\n",
              "    }\n",
              "\n",
              "    .dataframe tbody tr th {\n",
              "        vertical-align: top;\n",
              "    }\n",
              "\n",
              "    .dataframe thead th {\n",
              "        text-align: right;\n",
              "    }\n",
              "</style>\n",
              "<table border=\"1\" class=\"dataframe\">\n",
              "  <thead>\n",
              "    <tr style=\"text-align: right;\">\n",
              "      <th></th>\n",
              "      <th>age</th>\n",
              "      <th>sex</th>\n",
              "      <th>cp</th>\n",
              "      <th>thalach</th>\n",
              "      <th>exang</th>\n",
              "      <th>oldpeak</th>\n",
              "      <th>ca</th>\n",
              "      <th>thal</th>\n",
              "      <th>target</th>\n",
              "    </tr>\n",
              "  </thead>\n",
              "  <tbody>\n",
              "    <tr>\n",
              "      <th>0</th>\n",
              "      <td>63</td>\n",
              "      <td>1</td>\n",
              "      <td>3</td>\n",
              "      <td>150</td>\n",
              "      <td>0</td>\n",
              "      <td>2.3</td>\n",
              "      <td>0</td>\n",
              "      <td>1</td>\n",
              "      <td>1</td>\n",
              "    </tr>\n",
              "    <tr>\n",
              "      <th>1</th>\n",
              "      <td>37</td>\n",
              "      <td>1</td>\n",
              "      <td>2</td>\n",
              "      <td>187</td>\n",
              "      <td>0</td>\n",
              "      <td>3.5</td>\n",
              "      <td>0</td>\n",
              "      <td>2</td>\n",
              "      <td>1</td>\n",
              "    </tr>\n",
              "    <tr>\n",
              "      <th>2</th>\n",
              "      <td>41</td>\n",
              "      <td>0</td>\n",
              "      <td>1</td>\n",
              "      <td>172</td>\n",
              "      <td>0</td>\n",
              "      <td>1.4</td>\n",
              "      <td>0</td>\n",
              "      <td>2</td>\n",
              "      <td>1</td>\n",
              "    </tr>\n",
              "    <tr>\n",
              "      <th>3</th>\n",
              "      <td>56</td>\n",
              "      <td>1</td>\n",
              "      <td>1</td>\n",
              "      <td>178</td>\n",
              "      <td>0</td>\n",
              "      <td>0.8</td>\n",
              "      <td>0</td>\n",
              "      <td>2</td>\n",
              "      <td>1</td>\n",
              "    </tr>\n",
              "    <tr>\n",
              "      <th>4</th>\n",
              "      <td>57</td>\n",
              "      <td>0</td>\n",
              "      <td>0</td>\n",
              "      <td>163</td>\n",
              "      <td>1</td>\n",
              "      <td>0.6</td>\n",
              "      <td>0</td>\n",
              "      <td>2</td>\n",
              "      <td>1</td>\n",
              "    </tr>\n",
              "    <tr>\n",
              "      <th>...</th>\n",
              "      <td>...</td>\n",
              "      <td>...</td>\n",
              "      <td>...</td>\n",
              "      <td>...</td>\n",
              "      <td>...</td>\n",
              "      <td>...</td>\n",
              "      <td>...</td>\n",
              "      <td>...</td>\n",
              "      <td>...</td>\n",
              "    </tr>\n",
              "    <tr>\n",
              "      <th>298</th>\n",
              "      <td>57</td>\n",
              "      <td>0</td>\n",
              "      <td>0</td>\n",
              "      <td>123</td>\n",
              "      <td>1</td>\n",
              "      <td>0.2</td>\n",
              "      <td>0</td>\n",
              "      <td>3</td>\n",
              "      <td>0</td>\n",
              "    </tr>\n",
              "    <tr>\n",
              "      <th>299</th>\n",
              "      <td>45</td>\n",
              "      <td>1</td>\n",
              "      <td>3</td>\n",
              "      <td>132</td>\n",
              "      <td>0</td>\n",
              "      <td>1.2</td>\n",
              "      <td>0</td>\n",
              "      <td>3</td>\n",
              "      <td>0</td>\n",
              "    </tr>\n",
              "    <tr>\n",
              "      <th>300</th>\n",
              "      <td>68</td>\n",
              "      <td>1</td>\n",
              "      <td>0</td>\n",
              "      <td>141</td>\n",
              "      <td>0</td>\n",
              "      <td>3.4</td>\n",
              "      <td>2</td>\n",
              "      <td>3</td>\n",
              "      <td>0</td>\n",
              "    </tr>\n",
              "    <tr>\n",
              "      <th>301</th>\n",
              "      <td>57</td>\n",
              "      <td>1</td>\n",
              "      <td>0</td>\n",
              "      <td>115</td>\n",
              "      <td>1</td>\n",
              "      <td>1.2</td>\n",
              "      <td>1</td>\n",
              "      <td>3</td>\n",
              "      <td>0</td>\n",
              "    </tr>\n",
              "    <tr>\n",
              "      <th>302</th>\n",
              "      <td>57</td>\n",
              "      <td>0</td>\n",
              "      <td>1</td>\n",
              "      <td>174</td>\n",
              "      <td>0</td>\n",
              "      <td>0.0</td>\n",
              "      <td>1</td>\n",
              "      <td>2</td>\n",
              "      <td>0</td>\n",
              "    </tr>\n",
              "  </tbody>\n",
              "</table>\n",
              "<p>303 rows × 9 columns</p>\n",
              "</div>"
            ],
            "text/plain": [
              "     age  sex  cp  thalach  exang  oldpeak  ca  thal  target\n",
              "0     63    1   3      150      0      2.3   0     1       1\n",
              "1     37    1   2      187      0      3.5   0     2       1\n",
              "2     41    0   1      172      0      1.4   0     2       1\n",
              "3     56    1   1      178      0      0.8   0     2       1\n",
              "4     57    0   0      163      1      0.6   0     2       1\n",
              "..   ...  ...  ..      ...    ...      ...  ..   ...     ...\n",
              "298   57    0   0      123      1      0.2   0     3       0\n",
              "299   45    1   3      132      0      1.2   0     3       0\n",
              "300   68    1   0      141      0      3.4   2     3       0\n",
              "301   57    1   0      115      1      1.2   1     3       0\n",
              "302   57    0   1      174      0      0.0   1     2       0\n",
              "\n",
              "[303 rows x 9 columns]"
            ]
          },
          "metadata": {
            "tags": []
          },
          "execution_count": 3
        }
      ]
    },
    {
      "cell_type": "code",
      "metadata": {
        "id": "yMSQ4bpkFo28"
      },
      "source": [
        "X = dataset.iloc[:, :-1].values\n",
        "y = dataset.iloc[:, -1].values"
      ],
      "execution_count": null,
      "outputs": []
    },
    {
      "cell_type": "markdown",
      "metadata": {
        "id": "YvxIPVyMhmKp"
      },
      "source": [
        "## Splitting the dataset into the Training set and Test set"
      ]
    },
    {
      "cell_type": "code",
      "metadata": {
        "id": "AVzJWAXIhxoC"
      },
      "source": [
        "from sklearn.model_selection import train_test_split\n",
        "X_train, X_test, y_train, y_test = train_test_split(X, y, test_size = 0.25, random_state = 0)"
      ],
      "execution_count": null,
      "outputs": []
    },
    {
      "cell_type": "code",
      "metadata": {
        "id": "P3nS3-6r1i2B",
        "colab": {
          "base_uri": "https://localhost:8080/"
        },
        "outputId": "06651974-2e88-49ab-e1c2-25770ea5dd44"
      },
      "source": [
        "print(X_train)"
      ],
      "execution_count": null,
      "outputs": [
        {
          "output_type": "stream",
          "text": [
            "[[58.   1.   2.  ...  3.2  2.   3. ]\n",
            " [52.   1.   0.  ...  0.   1.   2. ]\n",
            " [54.   1.   2.  ...  1.6  0.   3. ]\n",
            " ...\n",
            " [56.   1.   3.  ...  1.9  0.   3. ]\n",
            " [47.   1.   2.  ...  0.   0.   2. ]\n",
            " [58.   1.   1.  ...  1.8  0.   2. ]]\n"
          ],
          "name": "stdout"
        }
      ]
    },
    {
      "cell_type": "code",
      "metadata": {
        "id": "8dpDLojm1mVG",
        "colab": {
          "base_uri": "https://localhost:8080/"
        },
        "outputId": "d017311f-b06f-4161-c4d7-ac67e7ad7ffe"
      },
      "source": [
        "print(y_train)"
      ],
      "execution_count": null,
      "outputs": [
        {
          "output_type": "stream",
          "text": [
            "[0 0 1 1 0 0 0 1 0 0 0 0 1 0 0 1 1 0 1 1 0 0 1 0 0 1 0 1 0 0 0 1 1 1 0 0 0\n",
            " 0 1 0 1 1 1 0 1 1 1 0 1 1 1 1 1 1 1 0 0 1 1 0 1 1 0 0 0 0 1 0 1 1 0 1 1 1\n",
            " 1 1 1 0 0 1 0 0 0 1 1 1 0 1 0 1 1 0 1 1 1 1 1 0 0 1 0 1 0 0 1 0 0 1 1 1 0\n",
            " 0 1 1 0 1 0 1 0 1 1 0 1 1 1 0 1 0 0 0 1 1 1 1 0 1 0 1 0 1 1 1 0 1 0 1 0 0\n",
            " 0 1 1 0 1 0 1 1 0 0 1 0 1 1 0 1 1 1 1 1 0 0 1 1 1 0 0 1 1 1 1 1 0 1 1 0 1\n",
            " 1 0 1 1 0 0 1 1 1 0 0 0 1 0 0 1 0 0 1 0 1 1 0 0 0 0 1 0 1 1 1 0 0 0 0 1 0\n",
            " 0 0 1 1 0]\n"
          ],
          "name": "stdout"
        }
      ]
    },
    {
      "cell_type": "code",
      "metadata": {
        "id": "qbb7i0DH1qui",
        "colab": {
          "base_uri": "https://localhost:8080/"
        },
        "outputId": "7303a103-93ce-4888-cff9-85c9c35281e0"
      },
      "source": [
        "print(X_test)"
      ],
      "execution_count": null,
      "outputs": [
        {
          "output_type": "stream",
          "text": [
            "[[7.00e+01 1.00e+00 0.00e+00 1.25e+02 1.00e+00 2.60e+00 0.00e+00 3.00e+00]\n",
            " [6.40e+01 1.00e+00 3.00e+00 1.55e+02 0.00e+00 6.00e-01 0.00e+00 3.00e+00]\n",
            " [5.90e+01 1.00e+00 3.00e+00 1.59e+02 0.00e+00 2.00e-01 0.00e+00 3.00e+00]\n",
            " [6.00e+01 1.00e+00 0.00e+00 1.41e+02 1.00e+00 2.80e+00 1.00e+00 3.00e+00]\n",
            " [6.20e+01 1.00e+00 2.00e+00 1.46e+02 0.00e+00 1.80e+00 3.00e+00 3.00e+00]\n",
            " [4.80e+01 1.00e+00 0.00e+00 1.66e+02 0.00e+00 5.00e-01 0.00e+00 3.00e+00]\n",
            " [4.00e+01 1.00e+00 0.00e+00 1.14e+02 1.00e+00 2.00e+00 0.00e+00 3.00e+00]\n",
            " [6.30e+01 1.00e+00 0.00e+00 1.47e+02 0.00e+00 1.40e+00 1.00e+00 3.00e+00]\n",
            " [5.60e+01 0.00e+00 0.00e+00 1.33e+02 1.00e+00 4.00e+00 2.00e+00 3.00e+00]\n",
            " [6.30e+01 1.00e+00 0.00e+00 1.32e+02 1.00e+00 1.80e+00 3.00e+00 3.00e+00]\n",
            " [5.70e+01 1.00e+00 2.00e+00 1.73e+02 0.00e+00 2.00e-01 1.00e+00 3.00e+00]\n",
            " [4.90e+01 0.00e+00 0.00e+00 1.63e+02 0.00e+00 0.00e+00 0.00e+00 2.00e+00]\n",
            " [6.50e+01 1.00e+00 0.00e+00 1.27e+02 0.00e+00 2.80e+00 1.00e+00 3.00e+00]\n",
            " [4.90e+01 1.00e+00 1.00e+00 1.71e+02 0.00e+00 6.00e-01 0.00e+00 2.00e+00]\n",
            " [5.00e+01 0.00e+00 2.00e+00 1.58e+02 0.00e+00 1.60e+00 0.00e+00 2.00e+00]\n",
            " [5.10e+01 1.00e+00 2.00e+00 1.43e+02 1.00e+00 1.20e+00 0.00e+00 2.00e+00]\n",
            " [5.20e+01 1.00e+00 0.00e+00 1.47e+02 0.00e+00 1.00e-01 3.00e+00 3.00e+00]\n",
            " [4.80e+01 1.00e+00 2.00e+00 1.75e+02 0.00e+00 0.00e+00 2.00e+00 2.00e+00]\n",
            " [6.20e+01 1.00e+00 0.00e+00 9.90e+01 1.00e+00 1.80e+00 2.00e+00 3.00e+00]\n",
            " [4.20e+01 1.00e+00 2.00e+00 1.94e+02 0.00e+00 8.00e-01 0.00e+00 3.00e+00]\n",
            " [4.20e+01 1.00e+00 0.00e+00 1.78e+02 0.00e+00 0.00e+00 0.00e+00 2.00e+00]\n",
            " [3.90e+01 1.00e+00 0.00e+00 1.40e+02 0.00e+00 1.20e+00 0.00e+00 3.00e+00]\n",
            " [6.20e+01 1.00e+00 1.00e+00 1.03e+02 0.00e+00 1.40e+00 1.00e+00 3.00e+00]\n",
            " [5.40e+01 1.00e+00 0.00e+00 1.08e+02 1.00e+00 0.00e+00 1.00e+00 2.00e+00]\n",
            " [4.10e+01 1.00e+00 1.00e+00 1.53e+02 0.00e+00 0.00e+00 0.00e+00 2.00e+00]\n",
            " [6.20e+01 0.00e+00 2.00e+00 9.70e+01 0.00e+00 1.20e+00 1.00e+00 3.00e+00]\n",
            " [5.20e+01 1.00e+00 0.00e+00 1.68e+02 0.00e+00 1.00e+00 2.00e+00 3.00e+00]\n",
            " [4.60e+01 1.00e+00 0.00e+00 1.44e+02 0.00e+00 8.00e-01 0.00e+00 3.00e+00]\n",
            " [3.90e+01 0.00e+00 2.00e+00 1.52e+02 0.00e+00 0.00e+00 0.00e+00 2.00e+00]\n",
            " [5.20e+01 1.00e+00 1.00e+00 1.58e+02 0.00e+00 8.00e-01 1.00e+00 2.00e+00]\n",
            " [6.00e+01 1.00e+00 2.00e+00 1.55e+02 0.00e+00 3.00e+00 0.00e+00 2.00e+00]\n",
            " [4.50e+01 1.00e+00 0.00e+00 1.47e+02 1.00e+00 0.00e+00 3.00e+00 3.00e+00]\n",
            " [4.10e+01 0.00e+00 1.00e+00 1.63e+02 0.00e+00 0.00e+00 0.00e+00 2.00e+00]\n",
            " [5.20e+01 1.00e+00 2.00e+00 1.62e+02 0.00e+00 5.00e-01 0.00e+00 3.00e+00]\n",
            " [3.50e+01 1.00e+00 1.00e+00 1.74e+02 0.00e+00 0.00e+00 0.00e+00 2.00e+00]\n",
            " [5.90e+01 0.00e+00 0.00e+00 1.43e+02 1.00e+00 0.00e+00 0.00e+00 2.00e+00]\n",
            " [7.00e+01 1.00e+00 2.00e+00 1.12e+02 1.00e+00 2.90e+00 1.00e+00 3.00e+00]\n",
            " [4.50e+01 1.00e+00 1.00e+00 1.70e+02 0.00e+00 0.00e+00 0.00e+00 2.00e+00]\n",
            " [5.60e+01 1.00e+00 0.00e+00 1.44e+02 1.00e+00 1.20e+00 1.00e+00 2.00e+00]\n",
            " [6.20e+01 0.00e+00 0.00e+00 1.60e+02 0.00e+00 3.60e+00 2.00e+00 2.00e+00]\n",
            " [5.70e+01 1.00e+00 0.00e+00 1.48e+02 0.00e+00 4.00e-01 0.00e+00 1.00e+00]\n",
            " [5.70e+01 0.00e+00 0.00e+00 1.59e+02 0.00e+00 0.00e+00 1.00e+00 2.00e+00]\n",
            " [5.20e+01 1.00e+00 2.00e+00 1.69e+02 0.00e+00 0.00e+00 4.00e+00 2.00e+00]\n",
            " [4.70e+01 1.00e+00 0.00e+00 1.18e+02 1.00e+00 1.00e+00 1.00e+00 2.00e+00]\n",
            " [5.10e+01 1.00e+00 3.00e+00 1.25e+02 1.00e+00 1.40e+00 1.00e+00 2.00e+00]\n",
            " [7.00e+01 1.00e+00 1.00e+00 1.43e+02 0.00e+00 0.00e+00 0.00e+00 2.00e+00]\n",
            " [4.10e+01 1.00e+00 2.00e+00 1.68e+02 0.00e+00 2.00e+00 0.00e+00 2.00e+00]\n",
            " [5.00e+01 1.00e+00 2.00e+00 1.63e+02 0.00e+00 6.00e-01 1.00e+00 3.00e+00]\n",
            " [5.60e+01 0.00e+00 0.00e+00 1.50e+02 1.00e+00 1.90e+00 2.00e+00 3.00e+00]\n",
            " [4.40e+01 1.00e+00 1.00e+00 1.73e+02 0.00e+00 0.00e+00 0.00e+00 3.00e+00]\n",
            " [5.20e+01 1.00e+00 1.00e+00 1.72e+02 0.00e+00 2.00e-01 0.00e+00 2.00e+00]\n",
            " [7.40e+01 0.00e+00 1.00e+00 1.21e+02 1.00e+00 2.00e-01 1.00e+00 2.00e+00]\n",
            " [4.10e+01 0.00e+00 2.00e+00 1.72e+02 1.00e+00 0.00e+00 0.00e+00 2.00e+00]\n",
            " [4.10e+01 1.00e+00 1.00e+00 1.32e+02 0.00e+00 0.00e+00 0.00e+00 1.00e+00]\n",
            " [3.90e+01 0.00e+00 2.00e+00 1.79e+02 0.00e+00 0.00e+00 0.00e+00 2.00e+00]\n",
            " [3.50e+01 1.00e+00 0.00e+00 1.30e+02 1.00e+00 1.60e+00 0.00e+00 3.00e+00]\n",
            " [4.40e+01 0.00e+00 2.00e+00 1.49e+02 0.00e+00 3.00e-01 1.00e+00 2.00e+00]\n",
            " [5.70e+01 0.00e+00 1.00e+00 1.74e+02 0.00e+00 0.00e+00 1.00e+00 2.00e+00]\n",
            " [5.90e+01 1.00e+00 2.00e+00 1.57e+02 0.00e+00 1.60e+00 0.00e+00 2.00e+00]\n",
            " [5.00e+01 0.00e+00 1.00e+00 1.62e+02 0.00e+00 1.10e+00 0.00e+00 2.00e+00]\n",
            " [5.80e+01 0.00e+00 0.00e+00 1.22e+02 0.00e+00 1.00e+00 0.00e+00 2.00e+00]\n",
            " [4.30e+01 0.00e+00 2.00e+00 1.65e+02 0.00e+00 2.00e-01 0.00e+00 2.00e+00]\n",
            " [6.60e+01 0.00e+00 2.00e+00 1.52e+02 0.00e+00 0.00e+00 1.00e+00 2.00e+00]\n",
            " [5.80e+01 1.00e+00 2.00e+00 1.65e+02 0.00e+00 0.00e+00 0.00e+00 2.00e+00]\n",
            " [6.30e+01 0.00e+00 0.00e+00 1.36e+02 1.00e+00 0.00e+00 0.00e+00 2.00e+00]\n",
            " [5.70e+01 1.00e+00 1.00e+00 1.64e+02 0.00e+00 0.00e+00 1.00e+00 2.00e+00]\n",
            " [5.90e+01 1.00e+00 3.00e+00 1.62e+02 0.00e+00 8.00e-01 2.00e+00 2.00e+00]\n",
            " [5.80e+01 1.00e+00 0.00e+00 1.71e+02 0.00e+00 0.00e+00 2.00e+00 3.00e+00]\n",
            " [4.70e+01 1.00e+00 0.00e+00 1.43e+02 0.00e+00 1.00e-01 0.00e+00 2.00e+00]\n",
            " [5.10e+01 1.00e+00 0.00e+00 1.86e+02 1.00e+00 0.00e+00 0.00e+00 2.00e+00]\n",
            " [5.90e+01 1.00e+00 0.00e+00 1.61e+02 0.00e+00 5.00e-01 0.00e+00 3.00e+00]\n",
            " [4.40e+01 1.00e+00 2.00e+00 1.80e+02 0.00e+00 0.00e+00 0.00e+00 2.00e+00]\n",
            " [5.60e+01 1.00e+00 1.00e+00 1.69e+02 0.00e+00 0.00e+00 0.00e+00 2.00e+00]\n",
            " [5.50e+01 1.00e+00 0.00e+00 1.45e+02 1.00e+00 8.00e-01 1.00e+00 3.00e+00]\n",
            " [6.50e+01 0.00e+00 0.00e+00 1.14e+02 0.00e+00 1.00e+00 3.00e+00 3.00e+00]\n",
            " [5.10e+01 1.00e+00 2.00e+00 1.23e+02 0.00e+00 6.00e-01 0.00e+00 2.00e+00]]\n"
          ],
          "name": "stdout"
        }
      ]
    },
    {
      "cell_type": "code",
      "metadata": {
        "id": "kj1hnFAR1s5w",
        "colab": {
          "base_uri": "https://localhost:8080/"
        },
        "outputId": "36cfff1e-d97d-48d8-c38f-e6a45cb3c674"
      },
      "source": [
        "print(y_test)"
      ],
      "execution_count": null,
      "outputs": [
        {
          "output_type": "stream",
          "text": [
            "[0 1 0 0 1 0 0 0 0 0 1 1 0 1 1 1 1 1 0 1 1 0 0 0 1 0 0 0 1 1 0 0 1 1 1 0 0\n",
            " 1 0 0 1 1 1 0 1 1 1 0 0 1 1 1 1 1 1 0 1 0 1 1 1 1 1 1 0 0 0 0 1 1 1 1 1 0\n",
            " 0 1]\n"
          ],
          "name": "stdout"
        }
      ]
    },
    {
      "cell_type": "markdown",
      "metadata": {
        "id": "kW3c7UYih0hT"
      },
      "source": [
        "## Feature Scaling"
      ]
    },
    {
      "cell_type": "code",
      "metadata": {
        "id": "9fQlDPKCh8sc"
      },
      "source": [
        "from sklearn.preprocessing import StandardScaler\n",
        "sc = StandardScaler()\n",
        "X_train = sc.fit_transform(X_train)\n",
        "X_test = sc.transform(X_test)"
      ],
      "execution_count": null,
      "outputs": []
    },
    {
      "cell_type": "code",
      "metadata": {
        "id": "syrnD1Op2BSR",
        "colab": {
          "base_uri": "https://localhost:8080/"
        },
        "outputId": "39d0461e-019e-4257-bbf7-0c52e1e9f89d"
      },
      "source": [
        "print(X_train)"
      ],
      "execution_count": null,
      "outputs": [
        {
          "output_type": "stream",
          "text": [
            "[[ 0.35256528  0.70243936  0.9870291  ...  1.72483977  1.22723311\n",
            "   1.12135917]\n",
            " [-0.31068598  0.70243936 -0.91982712 ... -0.92348745  0.25993479\n",
            "  -0.45968761]\n",
            " [-0.08960223  0.70243936  0.9870291  ...  0.40067616 -0.70736353\n",
            "   1.12135917]\n",
            " ...\n",
            " [ 0.13148153  0.70243936  1.94045721 ...  0.64895684 -0.70736353\n",
            "   1.12135917]\n",
            " [-0.86339537  0.70243936  0.9870291  ... -0.92348745 -0.70736353\n",
            "  -0.45968761]\n",
            " [ 0.35256528  0.70243936  0.03360099 ...  0.56619661 -0.70736353\n",
            "  -0.45968761]]\n"
          ],
          "name": "stdout"
        }
      ]
    },
    {
      "cell_type": "code",
      "metadata": {
        "id": "JUd6iBRp2C3L",
        "colab": {
          "base_uri": "https://localhost:8080/"
        },
        "outputId": "cc0e5d84-ea77-4d48-eff0-cbde7302b822"
      },
      "source": [
        "print(X_test)"
      ],
      "execution_count": null,
      "outputs": [
        {
          "output_type": "stream",
          "text": [
            "[[ 1.67906782  0.70243936 -0.91982712 -1.04934923  1.38212026  1.22827842\n",
            "  -0.70736353  1.12135917]\n",
            " [ 1.01581655  0.70243936  1.94045721  0.238927   -0.72352604 -0.4269261\n",
            "  -0.70736353  1.12135917]\n",
            " [ 0.46310716  0.70243936  1.94045721  0.41069717 -0.72352604 -0.757967\n",
            "  -0.70736353  1.12135917]\n",
            " [ 0.57364904  0.70243936 -0.91982712 -0.36226857  1.38212026  1.39379887\n",
            "   0.25993479  1.12135917]\n",
            " [ 0.79473279  0.70243936  0.9870291  -0.14755587 -0.72352604  0.56619661\n",
            "   2.19453143  1.12135917]\n",
            " [-0.75285349  0.70243936 -0.91982712  0.71129496 -0.72352604 -0.50968632\n",
            "  -0.70736353  1.12135917]\n",
            " [-1.63718851  0.70243936 -0.91982712 -1.52171719  1.38212026  0.73171706\n",
            "  -0.70736353  1.12135917]\n",
            " [ 0.90527467  0.70243936 -0.91982712 -0.10461333 -0.72352604  0.23515571\n",
            "   0.25993479  1.12135917]\n",
            " [ 0.13148153 -1.42361043 -0.91982712 -0.7058089   1.38212026  2.38692158\n",
            "   1.22723311  1.12135917]\n",
            " [ 0.90527467  0.70243936 -0.91982712 -0.74875145  1.38212026  0.56619661\n",
            "   2.19453143  1.12135917]\n",
            " [ 0.24202341  0.70243936  0.9870291   1.01189274 -0.72352604 -0.757967\n",
            "   0.25993479  1.12135917]\n",
            " [-0.64231162 -1.42361043 -0.91982712  0.58246733 -0.72352604 -0.92348745\n",
            "  -0.70736353 -0.45968761]\n",
            " [ 1.12635843  0.70243936 -0.91982712 -0.96346415 -0.72352604  1.39379887\n",
            "   0.25993479  1.12135917]\n",
            " [-0.64231162  0.70243936  0.03360099  0.92600766 -0.72352604 -0.4269261\n",
            "  -0.70736353 -0.45968761]\n",
            " [-0.53176974 -1.42361043  0.9870291   0.36775463 -0.72352604  0.40067616\n",
            "  -0.70736353 -0.45968761]\n",
            " [-0.42122786  0.70243936  0.9870291  -0.27638349  1.38212026  0.06963526\n",
            "  -0.70736353 -0.45968761]\n",
            " [-0.31068598  0.70243936 -0.91982712 -0.10461333 -0.72352604 -0.84072723\n",
            "   2.19453143  1.12135917]\n",
            " [-0.75285349  0.70243936  0.9870291   1.09777783 -0.72352604 -0.92348745\n",
            "   1.22723311 -0.45968761]\n",
            " [ 0.79473279  0.70243936 -0.91982712 -2.1658553   1.38212026  0.56619661\n",
            "   1.22723311  1.12135917]\n",
            " [-1.41610476  0.70243936  0.9870291   1.91368611 -0.72352604 -0.26140565\n",
            "  -0.70736353  1.12135917]\n",
            " [-1.41610476  0.70243936 -0.91982712  1.22660545 -0.72352604 -0.92348745\n",
            "  -0.70736353 -0.45968761]\n",
            " [-1.74773039  0.70243936 -0.91982712 -0.40521112 -0.72352604  0.06963526\n",
            "  -0.70736353  1.12135917]\n",
            " [ 0.79473279  0.70243936  0.03360099 -1.99408514 -0.72352604  0.23515571\n",
            "   0.25993479  1.12135917]\n",
            " [-0.08960223  0.70243936 -0.91982712 -1.77937243  1.38212026 -0.92348745\n",
            "   0.25993479 -0.45968761]\n",
            " [-1.52664664  0.70243936  0.03360099  0.15304192 -0.72352604 -0.92348745\n",
            "  -0.70736353 -0.45968761]\n",
            " [ 0.79473279 -1.42361043  0.9870291  -2.25174039 -0.72352604  0.06963526\n",
            "   0.25993479  1.12135917]\n",
            " [-0.31068598  0.70243936 -0.91982712  0.79718004 -0.72352604 -0.0958852\n",
            "   1.22723311  1.12135917]\n",
            " [-0.97393725  0.70243936 -0.91982712 -0.23344095 -0.72352604 -0.26140565\n",
            "  -0.70736353  1.12135917]\n",
            " [-1.74773039 -1.42361043  0.9870291   0.11009938 -0.72352604 -0.92348745\n",
            "  -0.70736353 -0.45968761]\n",
            " [-0.31068598  0.70243936  0.03360099  0.36775463 -0.72352604 -0.26140565\n",
            "   0.25993479 -0.45968761]\n",
            " [ 0.57364904  0.70243936  0.9870291   0.238927   -0.72352604  1.55931932\n",
            "  -0.70736353 -0.45968761]\n",
            " [-1.08447913  0.70243936 -0.91982712 -0.10461333  1.38212026 -0.92348745\n",
            "   2.19453143  1.12135917]\n",
            " [-1.52664664 -1.42361043  0.03360099  0.58246733 -0.72352604 -0.92348745\n",
            "  -0.70736353 -0.45968761]\n",
            " [-0.31068598  0.70243936  0.9870291   0.53952479 -0.72352604 -0.50968632\n",
            "  -0.70736353  1.12135917]\n",
            " [-2.1898979   0.70243936  0.03360099  1.05483529 -0.72352604 -0.92348745\n",
            "  -0.70736353 -0.45968761]\n",
            " [ 0.46310716 -1.42361043 -0.91982712 -0.27638349  1.38212026 -0.92348745\n",
            "  -0.70736353 -0.45968761]\n",
            " [ 1.67906782  0.70243936  0.9870291  -1.60760227  1.38212026  1.4765591\n",
            "   0.25993479  1.12135917]\n",
            " [-1.08447913  0.70243936  0.03360099  0.88306512 -0.72352604 -0.92348745\n",
            "  -0.70736353 -0.45968761]\n",
            " [ 0.13148153  0.70243936 -0.91982712 -0.23344095  1.38212026  0.06963526\n",
            "   0.25993479 -0.45968761]\n",
            " [ 0.79473279 -1.42361043 -0.91982712  0.45363971 -0.72352604  2.05588068\n",
            "   1.22723311 -0.45968761]\n",
            " [ 0.24202341  0.70243936 -0.91982712 -0.06167079 -0.72352604 -0.59244655\n",
            "  -0.70736353 -2.0407344 ]\n",
            " [ 0.24202341 -1.42361043 -0.91982712  0.41069717 -0.72352604 -0.92348745\n",
            "   0.25993479 -0.45968761]\n",
            " [-0.31068598  0.70243936  0.9870291   0.84012258 -0.72352604 -0.92348745\n",
            "   3.16182975 -0.45968761]\n",
            " [-0.86339537  0.70243936 -0.91982712 -1.34994702  1.38212026 -0.0958852\n",
            "   0.25993479 -0.45968761]\n",
            " [-0.42122786  0.70243936  1.94045721 -1.04934923  1.38212026  0.23515571\n",
            "   0.25993479 -0.45968761]\n",
            " [ 1.67906782  0.70243936  0.03360099 -0.27638349 -0.72352604 -0.92348745\n",
            "  -0.70736353 -0.45968761]\n",
            " [-1.52664664  0.70243936  0.9870291   0.79718004 -0.72352604  0.73171706\n",
            "  -0.70736353 -0.45968761]\n",
            " [-0.53176974  0.70243936  0.9870291   0.58246733 -0.72352604 -0.4269261\n",
            "   0.25993479  1.12135917]\n",
            " [ 0.13148153 -1.42361043 -0.91982712  0.0242143   1.38212026  0.64895684\n",
            "   1.22723311  1.12135917]\n",
            " [-1.195021    0.70243936  0.03360099  1.01189274 -0.72352604 -0.92348745\n",
            "  -0.70736353  1.12135917]\n",
            " [-0.31068598  0.70243936  0.03360099  0.9689502  -0.72352604 -0.757967\n",
            "  -0.70736353 -0.45968761]\n",
            " [ 2.12123533 -1.42361043  0.03360099 -1.2211194   1.38212026 -0.757967\n",
            "   0.25993479 -0.45968761]\n",
            " [-1.52664664 -1.42361043  0.9870291   0.9689502   1.38212026 -0.92348745\n",
            "  -0.70736353 -0.45968761]\n",
            " [-1.52664664  0.70243936  0.03360099 -0.74875145 -0.72352604 -0.92348745\n",
            "  -0.70736353 -2.0407344 ]\n",
            " [-1.74773039 -1.42361043  0.9870291   1.26954799 -0.72352604 -0.92348745\n",
            "  -0.70736353 -0.45968761]\n",
            " [-2.1898979   0.70243936 -0.91982712 -0.83463653  1.38212026  0.40067616\n",
            "  -0.70736353  1.12135917]\n",
            " [-1.195021   -1.42361043  0.9870291  -0.01872824 -0.72352604 -0.67520678\n",
            "   0.25993479 -0.45968761]\n",
            " [ 0.24202341 -1.42361043  0.03360099  1.05483529 -0.72352604 -0.92348745\n",
            "   0.25993479 -0.45968761]\n",
            " [ 0.46310716  0.70243936  0.9870291   0.32481208 -0.72352604  0.40067616\n",
            "  -0.70736353 -0.45968761]\n",
            " [-0.53176974 -1.42361043  0.03360099  0.53952479 -0.72352604 -0.01312497\n",
            "  -0.70736353 -0.45968761]\n",
            " [ 0.35256528 -1.42361043 -0.91982712 -1.17817686 -0.72352604 -0.0958852\n",
            "  -0.70736353 -0.45968761]\n",
            " [-1.30556288 -1.42361043  0.9870291   0.66835241 -0.72352604 -0.757967\n",
            "  -0.70736353 -0.45968761]\n",
            " [ 1.23690031 -1.42361043  0.9870291   0.11009938 -0.72352604 -0.92348745\n",
            "   0.25993479 -0.45968761]\n",
            " [ 0.35256528  0.70243936  0.9870291   0.66835241 -0.72352604 -0.92348745\n",
            "  -0.70736353 -0.45968761]\n",
            " [ 0.90527467 -1.42361043 -0.91982712 -0.57698128  1.38212026 -0.92348745\n",
            "  -0.70736353 -0.45968761]\n",
            " [ 0.24202341  0.70243936  0.03360099  0.62540987 -0.72352604 -0.92348745\n",
            "   0.25993479 -0.45968761]\n",
            " [ 0.46310716  0.70243936  1.94045721  0.53952479 -0.72352604 -0.26140565\n",
            "   1.22723311 -0.45968761]\n",
            " [ 0.35256528  0.70243936 -0.91982712  0.92600766 -0.72352604 -0.92348745\n",
            "   1.22723311  1.12135917]\n",
            " [-0.86339537  0.70243936 -0.91982712 -0.27638349 -0.72352604 -0.84072723\n",
            "  -0.70736353 -0.45968761]\n",
            " [-0.42122786  0.70243936 -0.91982712  1.57014578  1.38212026 -0.92348745\n",
            "  -0.70736353 -0.45968761]\n",
            " [ 0.46310716  0.70243936 -0.91982712  0.49658225 -0.72352604 -0.50968632\n",
            "  -0.70736353  1.12135917]\n",
            " [-1.195021    0.70243936  0.9870291   1.31249053 -0.72352604 -0.92348745\n",
            "  -0.70736353 -0.45968761]\n",
            " [ 0.13148153  0.70243936  0.03360099  0.84012258 -0.72352604 -0.92348745\n",
            "  -0.70736353 -0.45968761]\n",
            " [ 0.02093965  0.70243936 -0.91982712 -0.19049841  1.38212026 -0.26140565\n",
            "   0.25993479  1.12135917]\n",
            " [ 1.12635843 -1.42361043 -0.91982712 -1.52171719 -0.72352604 -0.0958852\n",
            "   2.19453143  1.12135917]\n",
            " [-0.42122786  0.70243936  0.9870291  -1.13523432 -0.72352604 -0.4269261\n",
            "  -0.70736353 -0.45968761]]\n"
          ],
          "name": "stdout"
        }
      ]
    },
    {
      "cell_type": "markdown",
      "metadata": {
        "id": "bb6jCOCQiAmP"
      },
      "source": [
        "## Training the Random Forest Classification model on the Training set"
      ]
    },
    {
      "cell_type": "code",
      "metadata": {
        "id": "e0pFVAmciHQs",
        "colab": {
          "base_uri": "https://localhost:8080/"
        },
        "outputId": "7b700916-b711-4904-f9a8-699ef797c963"
      },
      "source": [
        "from sklearn.ensemble import RandomForestClassifier\n",
        "classifier = RandomForestClassifier(n_estimators = 10, criterion = 'entropy', random_state = 0)\n",
        "classifier.fit(X_train, y_train)"
      ],
      "execution_count": null,
      "outputs": [
        {
          "output_type": "execute_result",
          "data": {
            "text/plain": [
              "RandomForestClassifier(bootstrap=True, ccp_alpha=0.0, class_weight=None,\n",
              "                       criterion='entropy', max_depth=None, max_features='auto',\n",
              "                       max_leaf_nodes=None, max_samples=None,\n",
              "                       min_impurity_decrease=0.0, min_impurity_split=None,\n",
              "                       min_samples_leaf=1, min_samples_split=2,\n",
              "                       min_weight_fraction_leaf=0.0, n_estimators=10,\n",
              "                       n_jobs=None, oob_score=False, random_state=0, verbose=0,\n",
              "                       warm_start=False)"
            ]
          },
          "metadata": {
            "tags": []
          },
          "execution_count": 13
        }
      ]
    },
    {
      "cell_type": "markdown",
      "metadata": {
        "id": "vKYVQH-l5NpE"
      },
      "source": [
        "## Predicting the Test set results"
      ]
    },
    {
      "cell_type": "code",
      "metadata": {
        "id": "p6VMTb2O4hwM",
        "colab": {
          "base_uri": "https://localhost:8080/"
        },
        "outputId": "de064199-8dda-4a8d-9c8c-940ae15ad201"
      },
      "source": [
        "y_pred = classifier.predict(X_test)\n",
        "print(np.concatenate((y_pred.reshape(len(y_pred),1), y_test.reshape(len(y_test),1)),1))"
      ],
      "execution_count": null,
      "outputs": [
        {
          "output_type": "stream",
          "text": [
            "[[0 0]\n",
            " [1 1]\n",
            " [1 0]\n",
            " [0 0]\n",
            " [0 1]\n",
            " [0 0]\n",
            " [0 0]\n",
            " [0 0]\n",
            " [0 0]\n",
            " [0 0]\n",
            " [0 1]\n",
            " [1 1]\n",
            " [0 0]\n",
            " [1 1]\n",
            " [1 1]\n",
            " [1 1]\n",
            " [0 1]\n",
            " [1 1]\n",
            " [0 0]\n",
            " [1 1]\n",
            " [1 1]\n",
            " [0 0]\n",
            " [0 0]\n",
            " [0 0]\n",
            " [1 1]\n",
            " [0 0]\n",
            " [0 0]\n",
            " [0 0]\n",
            " [1 1]\n",
            " [1 1]\n",
            " [1 0]\n",
            " [0 0]\n",
            " [1 1]\n",
            " [1 1]\n",
            " [1 1]\n",
            " [0 0]\n",
            " [0 0]\n",
            " [1 1]\n",
            " [0 0]\n",
            " [0 0]\n",
            " [1 1]\n",
            " [0 1]\n",
            " [1 1]\n",
            " [0 0]\n",
            " [0 1]\n",
            " [1 1]\n",
            " [1 1]\n",
            " [0 0]\n",
            " [0 0]\n",
            " [1 1]\n",
            " [1 1]\n",
            " [1 1]\n",
            " [1 1]\n",
            " [1 1]\n",
            " [1 1]\n",
            " [0 0]\n",
            " [1 1]\n",
            " [1 0]\n",
            " [1 1]\n",
            " [1 1]\n",
            " [1 1]\n",
            " [1 1]\n",
            " [1 1]\n",
            " [1 1]\n",
            " [1 0]\n",
            " [1 0]\n",
            " [1 0]\n",
            " [0 0]\n",
            " [1 1]\n",
            " [1 1]\n",
            " [1 1]\n",
            " [1 1]\n",
            " [1 1]\n",
            " [0 0]\n",
            " [0 0]\n",
            " [1 1]]\n"
          ],
          "name": "stdout"
        }
      ]
    },
    {
      "cell_type": "markdown",
      "metadata": {
        "id": "h4Hwj34ziWQW"
      },
      "source": [
        "## Making the Confusion Matrix"
      ]
    },
    {
      "cell_type": "code",
      "metadata": {
        "id": "D6bpZwUiiXic",
        "colab": {
          "base_uri": "https://localhost:8080/"
        },
        "outputId": "8665d5ac-c314-434e-820f-5ad269356880"
      },
      "source": [
        "from sklearn.metrics import confusion_matrix, accuracy_score\n",
        "cm = confusion_matrix(y_test, y_pred)\n",
        "print(cm)\n",
        "accuracy_score(y_test, y_pred)"
      ],
      "execution_count": null,
      "outputs": [
        {
          "output_type": "stream",
          "text": [
            "[[27  6]\n",
            " [ 5 38]]\n"
          ],
          "name": "stdout"
        },
        {
          "output_type": "execute_result",
          "data": {
            "text/plain": [
              "0.8552631578947368"
            ]
          },
          "metadata": {
            "tags": []
          },
          "execution_count": 15
        }
      ]
    },
    {
      "cell_type": "code",
      "metadata": {
        "colab": {
          "base_uri": "https://localhost:8080/",
          "height": 142
        },
        "id": "eaQt6sEbDWx6",
        "outputId": "b09b2266-27d7-4ffa-edaa-550d2d3ce749"
      },
      "source": [
        "pd.crosstab(y_test, y_pred)"
      ],
      "execution_count": null,
      "outputs": [
        {
          "output_type": "execute_result",
          "data": {
            "text/html": [
              "<div>\n",
              "<style scoped>\n",
              "    .dataframe tbody tr th:only-of-type {\n",
              "        vertical-align: middle;\n",
              "    }\n",
              "\n",
              "    .dataframe tbody tr th {\n",
              "        vertical-align: top;\n",
              "    }\n",
              "\n",
              "    .dataframe thead th {\n",
              "        text-align: right;\n",
              "    }\n",
              "</style>\n",
              "<table border=\"1\" class=\"dataframe\">\n",
              "  <thead>\n",
              "    <tr style=\"text-align: right;\">\n",
              "      <th>col_0</th>\n",
              "      <th>0</th>\n",
              "      <th>1</th>\n",
              "    </tr>\n",
              "    <tr>\n",
              "      <th>row_0</th>\n",
              "      <th></th>\n",
              "      <th></th>\n",
              "    </tr>\n",
              "  </thead>\n",
              "  <tbody>\n",
              "    <tr>\n",
              "      <th>0</th>\n",
              "      <td>27</td>\n",
              "      <td>6</td>\n",
              "    </tr>\n",
              "    <tr>\n",
              "      <th>1</th>\n",
              "      <td>5</td>\n",
              "      <td>38</td>\n",
              "    </tr>\n",
              "  </tbody>\n",
              "</table>\n",
              "</div>"
            ],
            "text/plain": [
              "col_0   0   1\n",
              "row_0        \n",
              "0      27   6\n",
              "1       5  38"
            ]
          },
          "metadata": {
            "tags": []
          },
          "execution_count": 31
        }
      ]
    },
    {
      "cell_type": "code",
      "metadata": {
        "colab": {
          "base_uri": "https://localhost:8080/"
        },
        "id": "0PH_iRT3olyU",
        "outputId": "2164c742-40c1-45ac-8567-e73c3efbb73b"
      },
      "source": [
        "from sklearn.metrics import classification_report\n",
        "print(classification_report(y_test, y_pred))"
      ],
      "execution_count": null,
      "outputs": [
        {
          "output_type": "stream",
          "text": [
            "              precision    recall  f1-score   support\n",
            "\n",
            "           0       0.84      0.82      0.83        33\n",
            "           1       0.86      0.88      0.87        43\n",
            "\n",
            "    accuracy                           0.86        76\n",
            "   macro avg       0.85      0.85      0.85        76\n",
            "weighted avg       0.86      0.86      0.85        76\n",
            "\n"
          ],
          "name": "stdout"
        }
      ]
    },
    {
      "cell_type": "markdown",
      "metadata": {
        "id": "Z7C2B3KmhEj_"
      },
      "source": [
        "As false negatives are 5 (which can be dangerous many a times in healthcare industry), we further try with other thresholds and plot ROC."
      ]
    },
    {
      "cell_type": "markdown",
      "metadata": {
        "id": "MJGUp_k15JOe"
      },
      "source": [
        "**EVALUATION WITH DIFFERENT THRESHOLDS**"
      ]
    },
    {
      "cell_type": "code",
      "metadata": {
        "id": "knsPSBT25Nuh"
      },
      "source": [
        "from sklearn import datasets\n",
        "from sklearn.metrics import roc_curve, roc_auc_score\n",
        "from sklearn.model_selection import train_test_split"
      ],
      "execution_count": null,
      "outputs": []
    },
    {
      "cell_type": "code",
      "metadata": {
        "id": "YRFdNpZhBKra"
      },
      "source": [
        "#Threshold 0.2,o.3, 0.4, 0.6\n",
        "y_pred_thr3=np.where(classifier.predict_proba(X_test)[:,1]>0.3,1,0)\n",
        "y_pred_thr2=np.where(classifier.predict_proba(X_test)[:,1]>0.2,1,0)\n",
        "y_pred_thr4=np.where(classifier.predict_proba(X_test)[:,1]>0.4,1,0)\n",
        "y_pred_thr6=np.where(classifier.predict_proba(X_test)[:,1]>0.6,1,0)"
      ],
      "execution_count": null,
      "outputs": []
    },
    {
      "cell_type": "code",
      "metadata": {
        "colab": {
          "base_uri": "https://localhost:8080/"
        },
        "id": "n2TfypKTCEGt",
        "outputId": "05cd0a77-8191-4363-e8d3-11401db1806d"
      },
      "source": [
        "#CM-------0.3 threshold--------best accuracy and false negatives\n",
        "cm = confusion_matrix(y_test, y_pred_thr3)\n",
        "print(cm)\n",
        "accuracy_score(y_test, y_pred_thr3)"
      ],
      "execution_count": null,
      "outputs": [
        {
          "output_type": "stream",
          "text": [
            "[[23 10]\n",
            " [ 2 41]]\n"
          ],
          "name": "stdout"
        },
        {
          "output_type": "execute_result",
          "data": {
            "text/plain": [
              "0.8421052631578947"
            ]
          },
          "metadata": {
            "tags": []
          },
          "execution_count": 22
        }
      ]
    },
    {
      "cell_type": "code",
      "metadata": {
        "colab": {
          "base_uri": "https://localhost:8080/"
        },
        "id": "DGXYBpLaCXuw",
        "outputId": "7665d60d-9e27-4a20-90ad-f72ea9063c17"
      },
      "source": [
        "#CM---------0.2 threshold\n",
        "cm = confusion_matrix(y_test, y_pred_thr2)\n",
        "print(cm)\n",
        "accuracy_score(y_test, y_pred_thr2)"
      ],
      "execution_count": null,
      "outputs": [
        {
          "output_type": "stream",
          "text": [
            "[[21 12]\n",
            " [ 2 41]]\n"
          ],
          "name": "stdout"
        },
        {
          "output_type": "execute_result",
          "data": {
            "text/plain": [
              "0.8157894736842105"
            ]
          },
          "metadata": {
            "tags": []
          },
          "execution_count": 23
        }
      ]
    },
    {
      "cell_type": "code",
      "metadata": {
        "colab": {
          "base_uri": "https://localhost:8080/"
        },
        "id": "Kl0HdpIeCYGq",
        "outputId": "73cc378e-2ef2-47f9-bc8c-2eba7764066a"
      },
      "source": [
        "#CM-------0.4 threshold\n",
        "cm = confusion_matrix(y_test, y_pred_thr4)\n",
        "print(cm)\n",
        "accuracy_score(y_test, y_pred_thr4)"
      ],
      "execution_count": null,
      "outputs": [
        {
          "output_type": "stream",
          "text": [
            "[[24  9]\n",
            " [ 3 40]]\n"
          ],
          "name": "stdout"
        },
        {
          "output_type": "execute_result",
          "data": {
            "text/plain": [
              "0.8421052631578947"
            ]
          },
          "metadata": {
            "tags": []
          },
          "execution_count": 24
        }
      ]
    },
    {
      "cell_type": "markdown",
      "metadata": {
        "id": "I1an9LIyhxX9"
      },
      "source": [
        "As seen, with threshold o.3, we get less number of false negatives and good accuracy. Plotting ROC for further evaluation of model. "
      ]
    },
    {
      "cell_type": "markdown",
      "metadata": {
        "id": "sfH_YI7r51Hs"
      },
      "source": [
        "**Plotting ROC Curves**"
      ]
    },
    {
      "cell_type": "code",
      "metadata": {
        "id": "N74OB1V-5lfx"
      },
      "source": [
        "false_positive_rate1, true_positive_rate1, threshold1 = roc_curve(y_test, classifier.predict_proba(X_test)[:,1])"
      ],
      "execution_count": null,
      "outputs": []
    },
    {
      "cell_type": "code",
      "metadata": {
        "colab": {
          "base_uri": "https://localhost:8080/"
        },
        "id": "z_-pbP8H5v7T",
        "outputId": "13d761bf-93e9-4aef-8bcf-da54edb75c7a"
      },
      "source": [
        "print('roc_auc_score for RandomForests: ', roc_auc_score(y_test, classifier.predict_proba(X_test)[:,1]))"
      ],
      "execution_count": null,
      "outputs": [
        {
          "output_type": "stream",
          "text": [
            "roc_auc_score for RandomForests:  0.9207188160676532\n"
          ],
          "name": "stdout"
        }
      ]
    },
    {
      "cell_type": "code",
      "metadata": {
        "colab": {
          "base_uri": "https://localhost:8080/",
          "height": 513
        },
        "id": "-UCR7B9O5491",
        "outputId": "38d37455-65df-493f-e69a-3046f84702b8"
      },
      "source": [
        "plt.subplots(1, figsize=(8,8))\n",
        "plt.title('Receiver Operating Characteristic - RandomForests')\n",
        "plt.plot(false_positive_rate1, true_positive_rate1)\n",
        "plt.plot([0, 1], ls=\"--\")\n",
        "plt.plot([0, 0], [1, 0] , c=\".7\"), plt.plot([1, 1] , c=\".7\")\n",
        "plt.ylabel('True Positive Rate')\n",
        "plt.xlabel('False Positive Rate')\n",
        "plt.show()"
      ],
      "execution_count": null,
      "outputs": [
        {
          "output_type": "display_data",
          "data": {
            "image/png": "[encoded data removed]",
            "text/plain": [
              "<Figure size 576x576 with 1 Axes>"
            ]
          },
          "metadata": {
            "tags": [],
            "needs_background": "light"
          }
        }
      ]
    },
    {
      "cell_type": "markdown",
      "metadata": {
        "id": "6_lTuLQsivHz"
      },
      "source": [
        "RESULT : \n",
        "\n",
        "Accuracy score for the model occurs to be 0.92, which proves it is a very good model."
      ]
    }
  ]
}